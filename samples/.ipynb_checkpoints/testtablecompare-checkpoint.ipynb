{
 "cells": [
  {
   "cell_type": "code",
   "execution_count": 17,
   "id": "12d4ca5c-65ea-4e19-a52d-0a17a14c6755",
   "metadata": {
    "tags": []
   },
   "outputs": [
    {
     "name": "stdout",
     "output_type": "stream",
     "text": [
      "Empty DataFrame\n",
      "Columns: []\n",
      "Index: []\n"
     ]
    },
    {
     "name": "stderr",
     "output_type": "stream",
     "text": [
      "C:\\Users\\Hoshin\\AppData\\Local\\Temp\\ipykernel_15908\\3717207803.py:16: UserWarning: pandas only supports SQLAlchemy connectable (engine/connection) or database string URI or sqlite3 DBAPI2 connection. Other DBAPI2 objects are not tested. Please consider using SQLAlchemy.\n",
      "  result = pd.read_sql(sql,cnxn)\n",
      "C:\\Users\\Hoshin\\AppData\\Local\\Temp\\ipykernel_15908\\3717207803.py:16: UserWarning: pandas only supports SQLAlchemy connectable (engine/connection) or database string URI or sqlite3 DBAPI2 connection. Other DBAPI2 objects are not tested. Please consider using SQLAlchemy.\n",
      "  result = pd.read_sql(sql,cnxn)\n"
     ]
    }
   ],
   "source": [
    "import pandas as pd\n",
    "import pyodbc\n",
    "\n",
    "\n",
    "source_table = '[dbo].[tbl_country]'\n",
    "target_table = '[dbo].[tbl_country]'\n",
    "    \n",
    "\n",
    "def db_connect():\n",
    "    cnxn = pyodbc.connect(r'Driver=SQL Server;Server=.\\SQLEXPRESS;Database=DataMart;Trusted_Connection=yes;')\n",
    "    return cnxn\n",
    "\n",
    "def fetch_data(table):\n",
    "    cnxn = db_connect()\n",
    "    sql = 'SELECT * FROM ' + table\n",
    "    result = pd.read_sql(sql,cnxn)\n",
    "    cnxn.close()\n",
    "    return result\n",
    "\n",
    "table1 = fetch_data(source_table)\n",
    "table2 = fetch_data(target_table)\n",
    "\n",
    "diff = table1.compare(table2)\n",
    "print(diff)\n",
    "\n",
    "#data = []\n",
    "#data.append(['Column Match','','','True', 'True'])\n",
    "#df = pd.DataFrame(data,columns=['Test conditions','Source','Target','Expected Result','Actual Result'])\n",
    "#print(df)\n"
   ]
  },
  {
   "cell_type": "code",
   "execution_count": null,
   "id": "b988cfca-80d4-4d05-8049-26b9a320054d",
   "metadata": {},
   "outputs": [],
   "source": []
  }
 ],
 "metadata": {
  "kernelspec": {
   "display_name": "Python 3 (ipykernel)",
   "language": "python",
   "name": "python3"
  },
  "language_info": {
   "codemirror_mode": {
    "name": "ipython",
    "version": 3
   },
   "file_extension": ".py",
   "mimetype": "text/x-python",
   "name": "python",
   "nbconvert_exporter": "python",
   "pygments_lexer": "ipython3",
   "version": "3.10.7"
  }
 },
 "nbformat": 4,
 "nbformat_minor": 5
}
