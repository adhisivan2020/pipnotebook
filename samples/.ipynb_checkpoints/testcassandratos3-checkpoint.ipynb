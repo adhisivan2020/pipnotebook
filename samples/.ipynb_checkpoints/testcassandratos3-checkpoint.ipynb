{
 "cells": [
  {
   "cell_type": "code",
   "execution_count": 3,
   "id": "a9d1a4da-23e3-4861-893d-a7f1e106b153",
   "metadata": {},
   "outputs": [
    {
     "name": "stdout",
     "output_type": "stream",
     "text": [
      "<cassandra.cluster.Session object at 0x0000024D3709D3F0>\n",
      "<cassandra.cluster.ResultSet object at 0x0000024D1DE307F0>\n",
      "Row(userid='1234', item_count=5, last_update_timestamp=datetime.datetime(2023, 2, 4, 6, 35, 25, 366000))\n",
      "Row(userid='9876', item_count=2, last_update_timestamp=datetime.datetime(2023, 2, 4, 6, 35, 17, 560000))\n",
      "Total row count:2\n"
     ]
    }
   ],
   "source": [
    "import cassandra\n",
    "from cassandra.cluster import Cluster\n",
    "\n",
    "row_count = 0\n",
    "\n",
    "try:\n",
    "    cluster = Cluster(['127.0.0.1'], 9042)\n",
    "    session = cluster.connect()\n",
    "    print(session)\n",
    "    \n",
    "    session.set_keyspace('store')\n",
    "    \n",
    "    query = 'SELECT * FROM store.shopping_cart'\n",
    "    rows = session.execute(query)\n",
    "    \n",
    "    print(rows)\n",
    "    \n",
    "     \n",
    "    for row in rows:\n",
    "        row_count = row_count+1\n",
    "        print(row)\n",
    "    \n",
    "    \n",
    "    print ('Total row count:' + str(row_count))\n",
    "    \n",
    "    session.shutdown()\n",
    "    cluster.shutdown()\n",
    "    \n",
    "except Exception as e:\n",
    "    print(e)"
   ]
  },
  {
   "cell_type": "code",
   "execution_count": 32,
   "id": "39d7a015-c173-478b-bbaf-65cd7df3b858",
   "metadata": {
    "tags": []
   },
   "outputs": [
    {
     "name": "stdout",
     "output_type": "stream",
     "text": [
      "2\n"
     ]
    }
   ],
   "source": [
    "import boto3\n",
    "import csv\n",
    "\n",
    "s3 = boto3.client('s3')\n",
    "#bucket = s3.Bucket('adhi-cloud-practice-bucket')\n",
    "\n",
    "\n",
    "s3_row_count = 0\n",
    "\n",
    "with open('downloaded.csv', 'wb') as f:\n",
    "    s3.download_fileobj('adhi-cloud-practice-bucket', 'cassandratestdata.csv', f)\n",
    "    \n",
    "with open('downloaded.csv',\"r\") as rf:\n",
    "    reader = csv.reader(rf,delimiter = \",\")\n",
    "    data = list(reader)\n",
    "    s3_row_count = len(data)\n",
    "\n",
    "    \n",
    "print(s3_row_count)\n",
    "#for obj in bucket.objects.all():\n",
    "#    key = obj.key\n",
    "#    body = obj.get()['Body'].read()\n",
    "#    print(body)"
   ]
  },
  {
   "cell_type": "code",
   "execution_count": 30,
   "id": "741f8510-1eba-4963-b357-2e06f9aca888",
   "metadata": {
    "tags": []
   },
   "outputs": [
    {
     "name": "stdout",
     "output_type": "stream",
     "text": [
      "1\n"
     ]
    }
   ],
   "source": [
    "# import boto3\n",
    "\n",
    "# def get_row_count_of_s3_csv(bucket_name, path):\n",
    "#     sql_stmt = \"\"\"SELECT count(*) FROM s3object \"\"\"\n",
    "#     req = boto3.client('s3').select_object_content(\n",
    "#         Bucket=bucket_name,\n",
    "#         Key=path,\n",
    "#         ExpressionType=\"SQL\",\n",
    "#         Expression=sql_stmt,\n",
    "#         InputSerialization = {\"CSV\": {\"FileHeaderInfo\": \"Use\", \"AllowQuotedRecordDelimiter\": True}},\n",
    "#         OutputSerialization = {\"CSV\": {}},\n",
    "#     )\n",
    "    \n",
    "#     row_count = next(int(x[\"Records\"][\"Payload\"]) for x in req[\"Payload\"])\n",
    "#     return row_count\n",
    "\n",
    "# s3_row_count = get_row_count_of_s3_csv('adhi-cloud-practice-bucket','cassandratestdata.csv')\n",
    "# print(s3_row_count)"
   ]
  },
  {
   "cell_type": "code",
   "execution_count": 35,
   "id": "007accf5-c0b2-4078-817c-d28ee8acac57",
   "metadata": {
    "tags": []
   },
   "outputs": [
    {
     "name": "stdout",
     "output_type": "stream",
     "text": [
      "The row count matching\n"
     ]
    }
   ],
   "source": [
    "if row_count==s3_row_count:\n",
    "    print('The row count matching')\n",
    "else:\n",
    "    print('The row count is not matching')"
   ]
  },
  {
   "cell_type": "code",
   "execution_count": null,
   "id": "2deb0adf-cd4a-4ecc-81ac-385ac85ef72a",
   "metadata": {},
   "outputs": [],
   "source": []
  }
 ],
 "metadata": {
  "kernelspec": {
   "display_name": "Python 3 (ipykernel)",
   "language": "python",
   "name": "python3"
  },
  "language_info": {
   "codemirror_mode": {
    "name": "ipython",
    "version": 3
   },
   "file_extension": ".py",
   "mimetype": "text/x-python",
   "name": "python",
   "nbconvert_exporter": "python",
   "pygments_lexer": "ipython3",
   "version": "3.10.7"
  }
 },
 "nbformat": 4,
 "nbformat_minor": 5
}
