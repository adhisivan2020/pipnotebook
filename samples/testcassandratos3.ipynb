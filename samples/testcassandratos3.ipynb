{
 "cells": [
  {
   "cell_type": "code",
   "execution_count": 16,
   "id": "a9d1a4da-23e3-4861-893d-a7f1e106b153",
   "metadata": {},
   "outputs": [
    {
     "name": "stdout",
     "output_type": "stream",
     "text": [
      "<cassandra.cluster.Session object at 0x0000011D9B813700>\n",
      "<cassandra.cluster.ResultSet object at 0x0000011D9B93EAD0>\n",
      "Row(userid='1234', item_count=5, last_update_timestamp=datetime.datetime(2023, 2, 4, 6, 35, 25, 366000))\n",
      "Row(userid='9876', item_count=2, last_update_timestamp=datetime.datetime(2023, 2, 4, 6, 35, 17, 560000))\n",
      "2\n"
     ]
    }
   ],
   "source": [
    "import cassandra\n",
    "from cassandra.cluster import Cluster\n",
    "\n",
    "row_count = 0\n",
    "\n",
    "try:\n",
    "    cluster = Cluster(['127.0.0.1'], 9042)\n",
    "    session = cluster.connect()\n",
    "    print(session)\n",
    "    \n",
    "    session.set_keyspace('store')\n",
    "    \n",
    "    query = 'SELECT * FROM store.shopping_cart'\n",
    "    rows = session.execute(query)\n",
    "    \n",
    "    print(rows)\n",
    "    \n",
    "     \n",
    "    for row in rows:\n",
    "        row_count = row_count+1\n",
    "        print(row)\n",
    "    \n",
    "    \n",
    "   \n",
    "    \n",
    "    session.shutdown()\n",
    "    cluster.shutdown()\n",
    "    \n",
    "except Exception as e:\n",
    "    print(e)"
   ]
  }
 ],
 "metadata": {
  "kernelspec": {
   "display_name": "Python 3 (ipykernel)",
   "language": "python",
   "name": "python3"
  },
  "language_info": {
   "codemirror_mode": {
    "name": "ipython",
    "version": 3
   },
   "file_extension": ".py",
   "mimetype": "text/x-python",
   "name": "python",
   "nbconvert_exporter": "python",
   "pygments_lexer": "ipython3",
   "version": "3.10.7"
  }
 },
 "nbformat": 4,
 "nbformat_minor": 5
}
