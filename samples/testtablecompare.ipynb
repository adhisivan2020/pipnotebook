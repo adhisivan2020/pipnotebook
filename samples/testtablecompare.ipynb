{
 "cells": [
  {
   "cell_type": "code",
   "execution_count": 23,
   "id": "12d4ca5c-65ea-4e19-a52d-0a17a14c6755",
   "metadata": {
    "tags": []
   },
   "outputs": [
    {
     "name": "stdout",
     "output_type": "stream",
     "text": [
      "  Test conditions            Source            Target Expected Result  \\\n",
      "0    Column Match    country_sys_id    country_sys_id            True   \n",
      "1    Column Match      country_code      country_code            True   \n",
      "2    Column Match      country_name      country_name            True   \n",
      "3    Column Match         IATA_code         IATA_code            True   \n",
      "4    Column Match         region_id         region_id            True   \n",
      "5    Column Match      continent_id      continent_id            True   \n",
      "6    Column Match  default_currency  default_currency            True   \n",
      "7    Column Match         ecgc_code         ecgc_code            True   \n",
      "8    Column Match         ecgc_name         ecgc_name            True   \n",
      "9    Column Match          MEIS_Grp          MEIS_Grp            True   \n",
      "\n",
      "  Actual Result  \n",
      "0          True  \n",
      "1          True  \n",
      "2          True  \n",
      "3          True  \n",
      "4          True  \n",
      "5          True  \n",
      "6          True  \n",
      "7          True  \n",
      "8          True  \n",
      "9          True  \n"
     ]
    }
   ],
   "source": [
    "import pandas as pd\n",
    "import pyodbc\n",
    "import warnings\n",
    "warnings.filterwarnings(\"ignore\")\n",
    "\n",
    "source_table = '[dbo].[tbl_country]'\n",
    "target_table = '[dbo].[tbl_country]'\n",
    "    \n",
    "result_data = []\n",
    "    \n",
    "def db_connect():\n",
    "    cnxn = pyodbc.connect(r'Driver=SQL Server;Server=.\\SQLEXPRESS;Database=DataMart;Trusted_Connection=yes;')\n",
    "    return cnxn\n",
    "\n",
    "def fetch_data(table):\n",
    "    cnxn = db_connect()\n",
    "    sql = 'SELECT * FROM ' + table\n",
    "    result = pd.read_sql(sql,cnxn)\n",
    "    cnxn.close()\n",
    "    return result\n",
    "\n",
    "table1 = fetch_data(source_table)\n",
    "table2 = fetch_data(target_table)\n",
    "\n",
    "for col in table1.columns:\n",
    "    if col in table2.columns:\n",
    "        result_data.append(['Column Match',col,col,'True', 'True'])\n",
    "    else:\n",
    "        result_data.append(['Column Match',col,'','True', 'False'])\n",
    "\n",
    "df = pd.DataFrame(result_data,columns=['Test conditions','Source','Target','Expected Result','Actual Result'])\n",
    "print(df)\n"
   ]
  },
  {
   "cell_type": "code",
   "execution_count": null,
   "id": "b988cfca-80d4-4d05-8049-26b9a320054d",
   "metadata": {},
   "outputs": [],
   "source": []
  },
  {
   "cell_type": "code",
   "execution_count": null,
   "id": "fa880b8f-c387-4560-b2e5-5f7c083cc4b6",
   "metadata": {},
   "outputs": [],
   "source": []
  }
 ],
 "metadata": {
  "kernelspec": {
   "display_name": "Python 3 (ipykernel)",
   "language": "python",
   "name": "python3"
  },
  "language_info": {
   "codemirror_mode": {
    "name": "ipython",
    "version": 3
   },
   "file_extension": ".py",
   "mimetype": "text/x-python",
   "name": "python",
   "nbconvert_exporter": "python",
   "pygments_lexer": "ipython3",
   "version": "3.10.7"
  }
 },
 "nbformat": 4,
 "nbformat_minor": 5
}
